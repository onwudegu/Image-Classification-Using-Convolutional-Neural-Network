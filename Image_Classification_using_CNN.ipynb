{
  "nbformat": 4,
  "nbformat_minor": 0,
  "metadata": {
    "colab": {
      "name": "Image Classification using CNN.ipynb",
      "provenance": []
    },
    "kernelspec": {
      "name": "python3",
      "display_name": "Python 3"
    },
    "accelerator": "GPU"
  },
  "cells": [
    {
      "cell_type": "markdown",
      "metadata": {
        "id": "MgWw0zrVs6U-"
      },
      "source": [
        "**Name**: Benson Onwudegu                                                  \n",
        "**Project Title**: Design Of Convolutional Neural Network (CNN) For Image Classification                                                              \n",
        "**Date**: February 16th, 2021"
      ]
    },
    {
      "cell_type": "markdown",
      "metadata": {
        "id": "RxaOLl2ysj8r"
      },
      "source": [
        "The aim of this analysis is to generate the Jupyter Notebook to explore the application of Convolutional Neural Networks (CNN) for Image Classification.\n",
        "\n",
        "During this exploration of the dataset, two specific algorithms or architectures will be utilzed, which are LeNet and AlexNet algorithm."
      ]
    },
    {
      "cell_type": "markdown",
      "metadata": {
        "id": "VLuJVkynG1P0"
      },
      "source": [
        "**•\tIntroduction**"
      ]
    },
    {
      "cell_type": "markdown",
      "metadata": {
        "id": "cY46rw0cn0OH"
      },
      "source": [
        "The aim of this analysis is to generate the Jupyter Notebook to explore the application of Convolutional Neural Networks (CNN) for Image Classification.\n",
        "\n",
        "During this exploration of the dataset, two specific algorithms or architectures will be utilzed, which are LeNet and AlexNet algorithm."
      ]
    },
    {
      "cell_type": "markdown",
      "metadata": {
        "id": "wdXStSbqoMOK"
      },
      "source": [
        "**•\tThe selected dataset for the algorithm comparison**"
      ]
    },
    {
      "cell_type": "markdown",
      "metadata": {
        "id": "9MPkc0ckoSHo"
      },
      "source": [
        "The Selected Dataset that was used for the exploration of the Convolutional Neural Network and comparison between the two algorithms is the MNIST DATASET.\n",
        "\n",
        "MNIST stands for Modified National Institute of Standards and Technology database.                                                       \n",
        "\n",
        "The MNIST dataset is a set of 70,000 small images of digits handwritten by high school students and employees of the US Cen‐sus Bureau. Each image is labeled with the digit it represents.                                        \n",
        "\n",
        "The MNIST database contains 60,000 training images and 10,000 testing images. Half of the training set and half of the test set were taken from NIST’s (National Institute of Standards and Technology database) training dataset, while the other half of the training set and the other half of the test set were taken from NIST’s testing dataset."
      ]
    },
    {
      "cell_type": "markdown",
      "metadata": {
        "id": "5_g3haIxonQp"
      },
      "source": [
        "**•\tThe algorithms to compare with appropriate reasoning why they were chosen**"
      ]
    },
    {
      "cell_type": "markdown",
      "metadata": {
        "id": "btwDt7jNou3o"
      },
      "source": [
        "\n",
        "\n",
        "*-----LeNet Algorithm*                                            \n",
        "\n",
        "I have chosen the LeNet Algorithm for the following reasons.\n",
        "\n",
        "1. The LeNet Algorithm or Architecture is the most widely known CNN architecture and it is used for hand‐written digit recognition such as for(MNIST).                                                          \n",
        "2. The LeNet architecture can be seen to be straightforward and small, it can as well run on the CPU (if your system does not have a suitable GPU).                                                            \n",
        "3. Also, if you happen to have GPU support and can access your GPU via Keras, you will enjoy extremely fast training times (in the order of 3-10 seconds per epoch, depending on your GPU).                                    \n",
        "\n",
        "*-----AlexNet Algorithm:*                                                     \n",
        "\n",
        "I have chosen this algorithm for the following reasons below.\n",
        "\n",
        "1. It Uses Relu to add non-linearity and the training process to be accelerated as gradient descent optimization takes place at a faster rate in comparison to other standard non-linearity techniques.                              \n",
        "\n",
        "2. It Uses dropout instead of regularisation to deal with overfitting. However the training time is doubled with the dropout rate of 0.3.\n",
        "\n",
        "3. It uses an Overlap pooling to reduce the size of network. It reduces the top-1 and top-5 error rates by 0.4% and 0.3%, repectively."
      ]
    },
    {
      "cell_type": "markdown",
      "metadata": {
        "id": "MmvMekDDqZNF"
      },
      "source": [
        "**Starting With The LeNet Algorithm**"
      ]
    },
    {
      "cell_type": "markdown",
      "metadata": {
        "id": "dWOA6AlTpavk"
      },
      "source": [
        "At this point, we shall begin the training and testing of our algorithms with LeNet Algorithm by importing all necessary libraries for a smooth process.          "
      ]
    },
    {
      "cell_type": "markdown",
      "metadata": {
        "id": "LaEkly2ybX56"
      },
      "source": [
        "**We are to Import The Necessary Libraries**                           \n",
        "We would be importing the numerical and tensorflow libraries for a smooth building of our model"
      ]
    },
    {
      "cell_type": "markdown",
      "metadata": {
        "id": "f-RtLQHYTjXN"
      },
      "source": [
        "**•\tAlgorithmic performance evaluation and comparison**"
      ]
    },
    {
      "cell_type": "code",
      "metadata": {
        "id": "XJR-lbMbkNL_"
      },
      "source": [
        "import numpy as np\n",
        "import tensorflow as tf\n",
        "from tensorflow.keras import Model\n",
        "from tensorflow.keras.models import Sequential\n",
        "from tensorflow.keras.layers import Dense, Flatten, Conv2D, AveragePooling2D"
      ],
      "execution_count": null,
      "outputs": []
    },
    {
      "cell_type": "markdown",
      "metadata": {
        "id": "ocAxCOu3bisA"
      },
      "source": [
        "**We are Downloading the Dataset in the step below**                       \n",
        "We would be Loading MNIST and splitting into training and testing datasets"
      ]
    },
    {
      "cell_type": "code",
      "metadata": {
        "id": "s7HVd2-boyBl"
      },
      "source": [
        "mnist = tf.keras.datasets.mnist\n",
        "(x_train, y_train),(x_test, y_test) = mnist.load_data()"
      ],
      "execution_count": null,
      "outputs": []
    },
    {
      "cell_type": "markdown",
      "metadata": {
        "id": "9hfNBFH2pEng"
      },
      "source": [
        "**Reshaping image dimensions**                                   \n",
        "Due to its Flattend 28 x 28 = 784image, we are to recover our original image from the 784-d vector, we simply reshape the array into a 28 x 28 image."
      ]
    },
    {
      "cell_type": "code",
      "metadata": {
        "id": "koUqoqW5o_5B"
      },
      "source": [
        "x_train = x_train.reshape(x_train.shape[0], 28, 28, 1)\n",
        "x_test = x_test.reshape(x_test.shape[0], 28, 28, 1)"
      ],
      "execution_count": null,
      "outputs": []
    },
    {
      "cell_type": "markdown",
      "metadata": {
        "id": "1QtSZJXDpK9a"
      },
      "source": [
        "**Normalization**                                        \n",
        "We will convert the data into float32 and normalize the pixels as well so that they fall in the range [0.0, 255.0]. Finally, we will one-hot encode the labels which will range from 0 to 9."
      ]
    },
    {
      "cell_type": "code",
      "metadata": {
        "id": "psHQA73i1oOH"
      },
      "source": [
        "x_train = x_train.astype('float32')\n",
        "x_test = x_test.astype('float32')\n",
        "x_train = x_train / 255.0\n",
        "x_test = x_test / 255.0\n"
      ],
      "execution_count": null,
      "outputs": []
    },
    {
      "cell_type": "markdown",
      "metadata": {
        "id": "TKFM-v2hpfdf"
      },
      "source": [
        "**Model Building**"
      ]
    },
    {
      "cell_type": "markdown",
      "metadata": {
        "id": "zTmHrE6JcWQa"
      },
      "source": [
        "**Now we are Defining a custom LeNet module**                           \n",
        "LeNet consists of 7 layers – 2 convolutional and 2 average pooling layers, and then 2 fully connected layers and the output layer with activation function softmax. \n",
        "\n",
        "**NOTE:** MNIST images dimensions are 28 × 28 pixels, but they are zero-padded to 32 × 32 pixels and normalized before being fed forward to the network. Input image shrinks further down the network."
      ]
    },
    {
      "cell_type": "code",
      "metadata": {
        "colab": {
          "base_uri": "https://localhost:8080/"
        },
        "id": "26p5T4jNpaBF",
        "outputId": "2b32e498-9fc4-4c19-eb40-f2d17f172615"
      },
      "source": [
        "model = Sequential()\n",
        "model.add(Conv2D(filters=6, kernel_size=(3, 3), activation='tanh', input_shape=(28,28,1)))\n",
        "model.add(AveragePooling2D())\n",
        "model.add(Conv2D(filters=16, kernel_size=(3, 3), activation='tanh'))\n",
        "model.add(AveragePooling2D())\n",
        "model.add(Flatten())\n",
        "model.add(Dense(units=128, activation='tanh'))\n",
        "model.add(Dense(units=10, activation = 'softmax'))\n",
        "model.summary()"
      ],
      "execution_count": null,
      "outputs": [
        {
          "output_type": "stream",
          "text": [
            "Model: \"sequential_15\"\n",
            "_________________________________________________________________\n",
            "Layer (type)                 Output Shape              Param #   \n",
            "=================================================================\n",
            "conv2d_60 (Conv2D)           (None, 26, 26, 6)         60        \n",
            "_________________________________________________________________\n",
            "average_pooling2d_10 (Averag (None, 13, 13, 6)         0         \n",
            "_________________________________________________________________\n",
            "conv2d_61 (Conv2D)           (None, 11, 11, 16)        880       \n",
            "_________________________________________________________________\n",
            "average_pooling2d_11 (Averag (None, 5, 5, 16)          0         \n",
            "_________________________________________________________________\n",
            "flatten_15 (Flatten)         (None, 400)               0         \n",
            "_________________________________________________________________\n",
            "dense_50 (Dense)             (None, 128)               51328     \n",
            "_________________________________________________________________\n",
            "dense_51 (Dense)             (None, 10)                1290      \n",
            "=================================================================\n",
            "Total params: 53,558\n",
            "Trainable params: 53,558\n",
            "Non-trainable params: 0\n",
            "_________________________________________________________________\n"
          ],
          "name": "stdout"
        }
      ]
    },
    {
      "cell_type": "markdown",
      "metadata": {
        "id": "cwewnUnypp9Y"
      },
      "source": [
        "**Model compilation**                                        \n",
        "We will be using the 'adam' optimizer and the loss is going to be sparse_categorical_crossentropy."
      ]
    },
    {
      "cell_type": "code",
      "metadata": {
        "id": "GO40_Exvpmua"
      },
      "source": [
        "model.compile(optimizer='adam',\n",
        "              loss='sparse_categorical_crossentropy',\n",
        "              metrics=['accuracy'])"
      ],
      "execution_count": null,
      "outputs": []
    },
    {
      "cell_type": "markdown",
      "metadata": {
        "id": "OqvvI8ZaTXD-"
      },
      "source": [
        "**•\tThe training and testing of the algorithms**"
      ]
    },
    {
      "cell_type": "markdown",
      "metadata": {
        "id": "MIlfnMM-puol"
      },
      "source": [
        "**Fitting the model**                                             \n",
        "We will train the model for 10 epochs"
      ]
    },
    {
      "cell_type": "code",
      "metadata": {
        "colab": {
          "base_uri": "https://localhost:8080/"
        },
        "id": "WlISyOlHpzyO",
        "outputId": "e8f062c5-3772-43a6-873f-311c4edcfff7"
      },
      "source": [
        "model.fit(x_train, y_train, \n",
        "          epochs=10, \n",
        "          validation_data=(x_test, y_test))"
      ],
      "execution_count": null,
      "outputs": [
        {
          "output_type": "stream",
          "text": [
            "Epoch 1/10\n",
            "1875/1875 [==============================] - 7s 4ms/step - loss: 0.4784 - accuracy: 0.8623 - val_loss: 0.1263 - val_accuracy: 0.9616\n",
            "Epoch 2/10\n",
            "1875/1875 [==============================] - 7s 4ms/step - loss: 0.1079 - accuracy: 0.9684 - val_loss: 0.0736 - val_accuracy: 0.9771\n",
            "Epoch 3/10\n",
            "1875/1875 [==============================] - 7s 4ms/step - loss: 0.0683 - accuracy: 0.9803 - val_loss: 0.0569 - val_accuracy: 0.9825\n",
            "Epoch 4/10\n",
            "1875/1875 [==============================] - 7s 4ms/step - loss: 0.0475 - accuracy: 0.9857 - val_loss: 0.0442 - val_accuracy: 0.9858\n",
            "Epoch 5/10\n",
            "1875/1875 [==============================] - 7s 4ms/step - loss: 0.0378 - accuracy: 0.9887 - val_loss: 0.0431 - val_accuracy: 0.9859\n",
            "Epoch 6/10\n",
            "1875/1875 [==============================] - 7s 4ms/step - loss: 0.0300 - accuracy: 0.9905 - val_loss: 0.0373 - val_accuracy: 0.9893\n",
            "Epoch 7/10\n",
            "1875/1875 [==============================] - 7s 4ms/step - loss: 0.0238 - accuracy: 0.9930 - val_loss: 0.0366 - val_accuracy: 0.9894\n",
            "Epoch 8/10\n",
            "1875/1875 [==============================] - 7s 4ms/step - loss: 0.0193 - accuracy: 0.9945 - val_loss: 0.0419 - val_accuracy: 0.9867\n",
            "Epoch 9/10\n",
            "1875/1875 [==============================] - 7s 4ms/step - loss: 0.0159 - accuracy: 0.9957 - val_loss: 0.0410 - val_accuracy: 0.9871\n",
            "Epoch 10/10\n",
            "1875/1875 [==============================] - 7s 4ms/step - loss: 0.0146 - accuracy: 0.9958 - val_loss: 0.0363 - val_accuracy: 0.9891\n"
          ],
          "name": "stdout"
        },
        {
          "output_type": "execute_result",
          "data": {
            "text/plain": [
              "<tensorflow.python.keras.callbacks.History at 0x7f6a44d0bac8>"
            ]
          },
          "metadata": {
            "tags": []
          },
          "execution_count": 211
        }
      ]
    },
    {
      "cell_type": "markdown",
      "metadata": {
        "id": "qtlYgbH-8clv"
      },
      "source": [
        "**Test the Model**                                              \n",
        "Let's Test Our Model"
      ]
    },
    {
      "cell_type": "code",
      "metadata": {
        "colab": {
          "base_uri": "https://localhost:8080/"
        },
        "id": "Ll3Sa-gh3Kk4",
        "outputId": "e0f99a14-968e-4f9e-f2ac-2f20d23f2aa4"
      },
      "source": [
        "loss, acc = model.evaluate(x_test, y_test)\n",
        "print('ACCURACY: ', acc)"
      ],
      "execution_count": null,
      "outputs": [
        {
          "output_type": "stream",
          "text": [
            "313/313 [==============================] - 1s 3ms/step - loss: 0.0363 - accuracy: 0.9891\n",
            "ACCURACY:  0.9890999794006348\n"
          ],
          "name": "stdout"
        }
      ]
    },
    {
      "cell_type": "markdown",
      "metadata": {
        "id": "gPlOr0upqPDc"
      },
      "source": [
        "**Model prediction**                                               \n",
        "Let's do a model prediction to see how well the model would perform."
      ]
    },
    {
      "cell_type": "code",
      "metadata": {
        "colab": {
          "base_uri": "https://localhost:8080/"
        },
        "id": "nDKvZrAyqLLe",
        "outputId": "9b4842d2-c0c7-404f-daa8-220f93abfc95"
      },
      "source": [
        "predictions = model.predict(x_test)\n",
        "print(np.argmax(predictions[0]))"
      ],
      "execution_count": null,
      "outputs": [
        {
          "output_type": "stream",
          "text": [
            "7\n"
          ],
          "name": "stdout"
        }
      ]
    },
    {
      "cell_type": "markdown",
      "metadata": {
        "id": "a4vyCoxrdFyA"
      },
      "source": [
        "We could see that our model has performed well with high accuracy and also predicted correctly."
      ]
    },
    {
      "cell_type": "markdown",
      "metadata": {
        "id": "bJsgn6NHry4w"
      },
      "source": [
        "We have been able to see how our model performed on the LeNet Algorithm, Next is for us to build our CNN with the AlexNet algorithm and compare their performance also.                                                \n",
        "Below, are the steps we would be taking using the AlexNet algorithm."
      ]
    },
    {
      "cell_type": "markdown",
      "metadata": {
        "id": "ft1YhEiKs7Ta"
      },
      "source": [
        "**Starting The AlexNet Algorithm**"
      ]
    },
    {
      "cell_type": "markdown",
      "metadata": {
        "id": "dWOGvx1AyhjI"
      },
      "source": [
        "**•\tIntroduction**"
      ]
    },
    {
      "cell_type": "markdown",
      "metadata": {
        "id": "QuwwHYzcyjT5"
      },
      "source": [
        "The aim of this experiment is to demonstrate the architecture of the AlexNet model in building our convolutional neural network.\n",
        "\n",
        "AlexNet architecture consists of 5 convolution layers and 3 fully connected layers and Relu will be used as the activation, except at the output which will be softmax."
      ]
    },
    {
      "cell_type": "markdown",
      "metadata": {
        "id": "G0iJ05vTsgKQ"
      },
      "source": [
        "**Import the Required Libraries**                                    \n",
        "These libraries are relevant for us to have a good start with building our convolutional neural network on the AlexNet algorithm."
      ]
    },
    {
      "cell_type": "markdown",
      "metadata": {
        "id": "cLux4r6WTzel"
      },
      "source": [
        "**•\tAlgorithmic performance evaluation and comparison**"
      ]
    },
    {
      "cell_type": "code",
      "metadata": {
        "id": "r3iLlS5qkZVK"
      },
      "source": [
        "import numpy as np\n",
        "import pandas as pd\n",
        "import matplotlib.pyplot as plt\n",
        "%matplotlib inline"
      ],
      "execution_count": null,
      "outputs": []
    },
    {
      "cell_type": "markdown",
      "metadata": {
        "id": "TGma6BJutF6L"
      },
      "source": [
        "**Let's download the MNIST dataset**                                          \n",
        "The MNIST dataset will be downloaded as we import these libraries below. "
      ]
    },
    {
      "cell_type": "code",
      "metadata": {
        "id": "av_N4XSoksDI"
      },
      "source": [
        "from keras.datasets import mnist\n",
        "from keras.models import Sequential\n",
        "from keras.layers import Dense, Dropout, Activation, Flatten\n",
        "from keras.optimizers import Adam\n",
        "from keras.layers.normalization import BatchNormalization\n",
        "from keras.utils import np_utils\n",
        "from keras.layers import Conv2D, MaxPooling2D, ZeroPadding2D, GlobalAveragePooling2D\n",
        "# from keras.layers.advanced_activations import LeakyReLU\n",
        "from keras.preprocessing.image import ImageDataGenerator"
      ],
      "execution_count": null,
      "outputs": []
    },
    {
      "cell_type": "markdown",
      "metadata": {
        "id": "bEfCzaZ9tgyp"
      },
      "source": [
        "**This step is to load the image data**                           \n"
      ]
    },
    {
      "cell_type": "markdown",
      "metadata": {
        "id": "ymIlZfJC4X4b"
      },
      "source": [
        "We would be Loading MNIST dataset and splitting into training and testing datasets accordingly."
      ]
    },
    {
      "cell_type": "code",
      "metadata": {
        "id": "6f4Z-gDrkwSY"
      },
      "source": [
        "(X_train, y_train), (X_test, y_test) = mnist.load_data()"
      ],
      "execution_count": null,
      "outputs": []
    },
    {
      "cell_type": "markdown",
      "metadata": {
        "id": "UUiCrvN3tpTM"
      },
      "source": [
        "**Let's verify what the dataset looks like**                                 \n",
        "To verify that the dataset looks correct, let's plot the first 25 images from the training set."
      ]
    },
    {
      "cell_type": "code",
      "metadata": {
        "colab": {
          "base_uri": "https://localhost:8080/",
          "height": 578
        },
        "id": "ZtfzmIMlk0Qx",
        "outputId": "4e529528-89be-4cd3-d0df-30a7238944e5"
      },
      "source": [
        "class_names = ['0', '1', '2', '3', '4',\n",
        "               '5', '6', '7', '8', '9']\n",
        "plt.figure(figsize=(10,10))\n",
        "for i in range(25):\n",
        "    plt.subplot(5,5,i+1)\n",
        "    plt.xticks([])\n",
        "    plt.yticks([])\n",
        "    plt.grid(False)\n",
        "    plt.imshow(X_train[i], cmap=plt.cm.binary)\n",
        "    # The CIFAR labels happen to be arrays, \n",
        "    # which is why you need the extra index\n",
        "      \n",
        "   \n",
        "plt.show()"
      ],
      "execution_count": null,
      "outputs": [
        {
          "output_type": "display_data",
          "data": {
            "image/png": "[encoded data removed]",
            "text/plain": [
              "<Figure size 720x720 with 25 Axes>"
            ]
          },
          "metadata": {
            "tags": []
          }
        }
      ]
    },
    {
      "cell_type": "markdown",
      "metadata": {
        "id": "c3lQ54r2ty3A"
      },
      "source": [
        "From the step below, We will see that X_train is (60000, 28, 28), so that we have 60000 training images, each with a 28*28 resolution.                    \n",
        "I will also be doing a Pre-processing of the data into desired format.            \n",
        "\n",
        "                                                              \n",
        "**Reshaping The data into (batch, height, width, channels)**"
      ]
    },
    {
      "cell_type": "code",
      "metadata": {
        "id": "d2EMVzKyLZY-"
      },
      "source": [
        "X_train = X_train.reshape(60000, 28, 28, 1)\n",
        "X_test = X_test.reshape(10000, 28, 28, 1)"
      ],
      "execution_count": null,
      "outputs": []
    },
    {
      "cell_type": "markdown",
      "metadata": {
        "id": "fcz2RgYtuhGr"
      },
      "source": [
        "From the output above, We could see that we have 60000 training images and 10000 testing images.\n",
        "\n",
        "Where X_train = Training Images                                       \n",
        "      X_test = Test Images."
      ]
    },
    {
      "cell_type": "markdown",
      "metadata": {
        "id": "S8bKlF5gvGPw"
      },
      "source": [
        "**Data Normalization**                                                 \n",
        "We are Normalizing The data to float between 0 and 1 below.                \n",
        "Original pixel values are between 0 and 255"
      ]
    },
    {
      "cell_type": "code",
      "metadata": {
        "id": "heVQPrN_C5f4"
      },
      "source": [
        "X_train = X_train.astype('float32')\n",
        "X_test = X_test.astype('float32')\n",
        "X_train = X_train / 255\n",
        "X_test = X_test / 255"
      ],
      "execution_count": null,
      "outputs": []
    },
    {
      "cell_type": "markdown",
      "metadata": {
        "id": "C8FdKZaOvR5T"
      },
      "source": [
        "For y_ train and y_test data, we want to convert them into categorical / one-hot variables below. In our case, we have 10 categories.                     \n",
        "keras.utils.np_utils conveniently has this built in."
      ]
    },
    {
      "cell_type": "code",
      "metadata": {
        "id": "W8fC9qvclA2H"
      },
      "source": [
        "classes = 10\n",
        "y_train = np_utils.to_categorical(y_train, classes)\n",
        "y_test = np_utils.to_categorical(y_test, classes)"
      ],
      "execution_count": null,
      "outputs": []
    },
    {
      "cell_type": "markdown",
      "metadata": {
        "id": "9JeUfnZZvpxw"
      },
      "source": [
        "**Let's Verify the dimension after one hot encoding**                        \n",
        "This is for us to be sure our data dimension is still intact after the convertion."
      ]
    },
    {
      "cell_type": "code",
      "metadata": {
        "colab": {
          "base_uri": "https://localhost:8080/"
        },
        "id": "pFLH68-OlD3i",
        "outputId": "2e798175-fcb2-4752-849a-8b279072b6cd"
      },
      "source": [
        "print((X_train.shape,y_train.shape))\n",
        "print((X_test.shape,y_test.shape))"
      ],
      "execution_count": null,
      "outputs": [
        {
          "output_type": "stream",
          "text": [
            "((60000, 28, 28, 1), (60000, 10))\n",
            "((10000, 28, 28, 1), (10000, 10))\n"
          ],
          "name": "stdout"
        }
      ]
    },
    {
      "cell_type": "markdown",
      "metadata": {
        "id": "8eagoVy1wBwu"
      },
      "source": [
        "**Building The Neural Network**                               \n",
        "Instantiate a Sequential model                                        \n",
        "\n",
        "In the step below, we would have to define the AlexNet network. The parameters of the network will be kept according to the descriptions below, that is 5 convolutional layers with kernel size 3 x 3, 3 x 3, 3 x 3 respectively, 3 fully connected layers, ReLU as an activation function at all layers except at the output layer, Also with an input shape of 28 x 28.                                         \n",
        "Since we will test this model in MNIST classification, at the output layer we will define a Dense layer with 10 nodes."
      ]
    },
    {
      "cell_type": "code",
      "metadata": {
        "colab": {
          "base_uri": "https://localhost:8080/"
        },
        "id": "tMm72WJBlJbX",
        "outputId": "5ec70ff1-14eb-4106-ffef-d1bdddc2ee8d"
      },
      "source": [
        "model = Sequential()\n",
        "\n",
        "# 1st Convolutional Layer\n",
        "model.add(Conv2D(filters=32, input_shape=(28, 28, 1), kernel_size=(3, 3), strides=(1, 1), padding='valid'))\n",
        "model.add(Activation('relu'))\n",
        "# Max Pooling\n",
        "model.add(MaxPooling2D(pool_size=(3, 3), strides=(1, 1), padding='valid'))\n",
        "\n",
        "# 2nd Convolutional Layer\n",
        "model.add(Conv2D(filters=32, kernel_size=(3, 3), strides=(1, 1), padding='valid'))\n",
        "model.add(Activation('relu'))\n",
        "# Max Pooling\n",
        "model.add(MaxPooling2D(pool_size=(3, 3), strides=(1, 1), padding='valid'))\n",
        "\n",
        "# 3rd Convolutional Layer\n",
        "model.add(Conv2D(filters=64, kernel_size=(3, 3), strides=(1, 1), padding='valid'))\n",
        "model.add(Activation('relu'))\n",
        "\n",
        "# 4th Convolutional Layer\n",
        "model.add(Conv2D(filters=64, kernel_size=(3, 3), strides=(1, 1), padding='valid'))\n",
        "model.add(Activation('relu'))\n",
        "\n",
        "# 5th Convolutional Layer\n",
        "model.add(Conv2D(filters=64, kernel_size=(3, 3), strides=(1, 1), padding='valid'))\n",
        "model.add(Activation('relu'))\n",
        "\n",
        "# Max Pooling\n",
        "model.add(MaxPooling2D(pool_size=(3, 3), strides=(2, 2), padding='valid'))\n",
        "\n",
        "# Fully Connected layer\n",
        "model.add(Flatten())\n",
        "# 1st Fully Connected Layer\n",
        "model.add(Dense(512))\n",
        "model.add(BatchNormalization())\n",
        "model.add(Activation('relu'))\n",
        "# Add Dropout to prevent overfitting\n",
        "model.add(Dropout(0.3))\n",
        "\n",
        "# 2nd Fully Connected Layer\n",
        "model.add(Dense(512))\n",
        "model.add(BatchNormalization())\n",
        "model.add(Activation('relu'))\n",
        "# Add Dropout to prevent overfitting\n",
        "model.add(Dropout(0.3))\n",
        "\n",
        "# 3rd Fully Connected Layer\n",
        "model.add(Dense(512))\n",
        "model.add(BatchNormalization())\n",
        "model.add(Activation('relu'))\n",
        "# Add Dropout to prevent overfitting\n",
        "model.add(Dropout(0.3))\n",
        "\n",
        "# Output Layer\n",
        "# important to have dense 10, since we have 10 classes\n",
        "model.add(Dense(10))\n",
        "model.add(BatchNormalization())\n",
        "model.add(Activation('softmax'))\n",
        "\n",
        "model.summary()\n"
      ],
      "execution_count": null,
      "outputs": [
        {
          "output_type": "stream",
          "text": [
            "Model: \"sequential_16\"\n",
            "_________________________________________________________________\n",
            "Layer (type)                 Output Shape              Param #   \n",
            "=================================================================\n",
            "conv2d_62 (Conv2D)           (None, 26, 26, 32)        320       \n",
            "_________________________________________________________________\n",
            "activation_90 (Activation)   (None, 26, 26, 32)        0         \n",
            "_________________________________________________________________\n",
            "max_pooling2d_30 (MaxPooling (None, 24, 24, 32)        0         \n",
            "_________________________________________________________________\n",
            "conv2d_63 (Conv2D)           (None, 22, 22, 32)        9248      \n",
            "_________________________________________________________________\n",
            "activation_91 (Activation)   (None, 22, 22, 32)        0         \n",
            "_________________________________________________________________\n",
            "max_pooling2d_31 (MaxPooling (None, 20, 20, 32)        0         \n",
            "_________________________________________________________________\n",
            "conv2d_64 (Conv2D)           (None, 18, 18, 64)        18496     \n",
            "_________________________________________________________________\n",
            "activation_92 (Activation)   (None, 18, 18, 64)        0         \n",
            "_________________________________________________________________\n",
            "conv2d_65 (Conv2D)           (None, 16, 16, 64)        36928     \n",
            "_________________________________________________________________\n",
            "activation_93 (Activation)   (None, 16, 16, 64)        0         \n",
            "_________________________________________________________________\n",
            "conv2d_66 (Conv2D)           (None, 14, 14, 64)        36928     \n",
            "_________________________________________________________________\n",
            "activation_94 (Activation)   (None, 14, 14, 64)        0         \n",
            "_________________________________________________________________\n",
            "max_pooling2d_32 (MaxPooling (None, 6, 6, 64)          0         \n",
            "_________________________________________________________________\n",
            "flatten_16 (Flatten)         (None, 2304)              0         \n",
            "_________________________________________________________________\n",
            "dense_52 (Dense)             (None, 512)               1180160   \n",
            "_________________________________________________________________\n",
            "batch_normalization_40 (Batc (None, 512)               2048      \n",
            "_________________________________________________________________\n",
            "activation_95 (Activation)   (None, 512)               0         \n",
            "_________________________________________________________________\n",
            "dropout_30 (Dropout)         (None, 512)               0         \n",
            "_________________________________________________________________\n",
            "dense_53 (Dense)             (None, 512)               262656    \n",
            "_________________________________________________________________\n",
            "batch_normalization_41 (Batc (None, 512)               2048      \n",
            "_________________________________________________________________\n",
            "activation_96 (Activation)   (None, 512)               0         \n",
            "_________________________________________________________________\n",
            "dropout_31 (Dropout)         (None, 512)               0         \n",
            "_________________________________________________________________\n",
            "dense_54 (Dense)             (None, 512)               262656    \n",
            "_________________________________________________________________\n",
            "batch_normalization_42 (Batc (None, 512)               2048      \n",
            "_________________________________________________________________\n",
            "activation_97 (Activation)   (None, 512)               0         \n",
            "_________________________________________________________________\n",
            "dropout_32 (Dropout)         (None, 512)               0         \n",
            "_________________________________________________________________\n",
            "dense_55 (Dense)             (None, 10)                5130      \n",
            "_________________________________________________________________\n",
            "batch_normalization_43 (Batc (None, 10)                40        \n",
            "_________________________________________________________________\n",
            "activation_98 (Activation)   (None, 10)                0         \n",
            "=================================================================\n",
            "Total params: 1,818,706\n",
            "Trainable params: 1,815,614\n",
            "Non-trainable params: 3,092\n",
            "_________________________________________________________________\n"
          ],
          "name": "stdout"
        }
      ]
    },
    {
      "cell_type": "markdown",
      "metadata": {
        "id": "Q66L2NPrwO8u"
      },
      "source": [
        "**Let's Compile The Model**                                             \n",
        "Now that our model is defined, we will compile this model and use adam as an optimizer."
      ]
    },
    {
      "cell_type": "code",
      "metadata": {
        "id": "v0_i2kIqlP9K"
      },
      "source": [
        "model.compile(loss='categorical_crossentropy',\n",
        "              optimizer='adam',\n",
        "              metrics=['accuracy'])"
      ],
      "execution_count": null,
      "outputs": []
    },
    {
      "cell_type": "markdown",
      "metadata": {
        "id": "8XUm8Xo3wcg5"
      },
      "source": [
        "          \n",
        "We would use ImageDataGenerator below to augment our input data which will help us reduce overfitting."
      ]
    },
    {
      "cell_type": "code",
      "metadata": {
        "id": "bPlm9pQHlTmA"
      },
      "source": [
        "gen = ImageDataGenerator(\n",
        "            rotation_range=8,\n",
        "            width_shift_range=0.08,\n",
        "            shear_range=0.3,\n",
        "            height_shift_range=0.08,\n",
        "            zoom_range=0.08\n",
        "            )\n",
        "test_gen = ImageDataGenerator()"
      ],
      "execution_count": null,
      "outputs": []
    },
    {
      "cell_type": "markdown",
      "metadata": {
        "id": "ZPR2GBIFwlOr"
      },
      "source": [
        "After preprocessing the MNIST dataset, the next is for us to train our defined AlexNet model.                                               \n",
        "The learning rate annealer will be used in this experiment.The learning rate annealer decreases the learning rate after a certain number of epochs if the error rate does not change.                            \n",
        "Through this technique, the validation accuracy will be monitored and if it seems to be a plateau in 3 epochs, it will reduce the learning rate by 0.01.                            "
      ]
    },
    {
      "cell_type": "code",
      "metadata": {
        "id": "KIDT6URVlXfa"
      },
      "source": [
        "from keras.callbacks import ReduceLROnPlateau\n",
        "lrr= ReduceLROnPlateau(   monitor='val_acc',   factor=.01,   patience=3,  min_lr=1e-5) "
      ],
      "execution_count": null,
      "outputs": []
    },
    {
      "cell_type": "markdown",
      "metadata": {
        "id": "u6HcOYNrwr2Y"
      },
      "source": [
        "We would train our model by defining below the number of epochs, the number of batches and the learning rate.                      "
      ]
    },
    {
      "cell_type": "code",
      "metadata": {
        "id": "4OVOS5VPnd_v"
      },
      "source": [
        "BATCH_SIZE = 64\n",
        "\n",
        "EPOCHS = 5\n",
        "\n",
        "# Generator to \"flow\" in the input images and labels into our model\n",
        "# Takes batch_size as a parameter\n",
        "train_generator = gen.flow(X_train, y_train, batch_size=BATCH_SIZE)\n",
        "test_generator = test_gen.flow(X_test, y_test, batch_size=BATCH_SIZE)"
      ],
      "execution_count": null,
      "outputs": []
    },
    {
      "cell_type": "markdown",
      "metadata": {
        "id": "Fp6s6B4AUADP"
      },
      "source": [
        "**•\tThe training and testing of the algorithms**"
      ]
    },
    {
      "cell_type": "markdown",
      "metadata": {
        "id": "GxVcpnF7wyxa"
      },
      "source": [
        "**Now we are Training The Model**                                            \n",
        "The Model is being trained with 5 epochs and batch size of 64."
      ]
    },
    {
      "cell_type": "code",
      "metadata": {
        "colab": {
          "base_uri": "https://localhost:8080/"
        },
        "id": "ibc6HQDOlfER",
        "outputId": "d2e818b8-660f-4f85-b24e-50635117b8a7"
      },
      "source": [
        "model.fit_generator(\n",
        "        train_generator,\n",
        "        steps_per_epoch=60000//BATCH_SIZE,\n",
        "        epochs=EPOCHS,\n",
        "        validation_data=test_generator,\n",
        "        validation_steps=10000//BATCH_SIZE\n",
        "        )"
      ],
      "execution_count": null,
      "outputs": [
        {
          "output_type": "stream",
          "text": [
            "/usr/local/lib/python3.6/dist-packages/tensorflow/python/keras/engine/training.py:1844: UserWarning: `Model.fit_generator` is deprecated and will be removed in a future version. Please use `Model.fit`, which supports generators.\n",
            "  warnings.warn('`Model.fit_generator` is deprecated and '\n"
          ],
          "name": "stderr"
        },
        {
          "output_type": "stream",
          "text": [
            "Epoch 1/5\n",
            "937/937 [==============================] - 35s 36ms/step - loss: 0.6196 - accuracy: 0.8663 - val_loss: 0.2467 - val_accuracy: 0.9162\n",
            "Epoch 2/5\n",
            "937/937 [==============================] - 33s 35ms/step - loss: 0.1758 - accuracy: 0.9667 - val_loss: 0.0592 - val_accuracy: 0.9858\n",
            "Epoch 3/5\n",
            "937/937 [==============================] - 33s 35ms/step - loss: 0.1180 - accuracy: 0.9744 - val_loss: 0.0545 - val_accuracy: 0.9864\n",
            "Epoch 4/5\n",
            "937/937 [==============================] - 33s 35ms/step - loss: 0.0909 - accuracy: 0.9789 - val_loss: 0.0359 - val_accuracy: 0.9901\n",
            "Epoch 5/5\n",
            "937/937 [==============================] - 33s 35ms/step - loss: 0.0760 - accuracy: 0.9805 - val_loss: 0.0407 - val_accuracy: 0.9892\n"
          ],
          "name": "stdout"
        },
        {
          "output_type": "execute_result",
          "data": {
            "text/plain": [
              "<tensorflow.python.keras.callbacks.History at 0x7f6a4e6e4630>"
            ]
          },
          "metadata": {
            "tags": []
          },
          "execution_count": 229
        }
      ]
    },
    {
      "cell_type": "markdown",
      "metadata": {
        "id": "Q7GHjV2xxIce"
      },
      "source": [
        "After a Successful training above, we would visualize its Performance in the step below."
      ]
    },
    {
      "cell_type": "code",
      "metadata": {
        "colab": {
          "base_uri": "https://localhost:8080/",
          "height": 283
        },
        "id": "Nfp8RnxOl9Ko",
        "outputId": "6d835628-8894-4110-82e2-8a63d0e3b897"
      },
      "source": [
        "import matplotlib.pyplot as plt\n",
        "#Plotting the training and validation loss\n",
        "\n",
        "f,ax=plt.subplots(2,1) #Creates 2 subplots under 1 column\n",
        "\n",
        "#Assigning the first subplot to graph training loss and validation loss\n",
        "ax[0].plot(model.history.history['loss'],color='b',label='Training Loss')\n",
        "ax[0].plot(model.history.history['val_loss'],color='r',label='Validation Loss')\n",
        "\n",
        "#Plotting the training accuracy and validation accuracy\n",
        "ax[1].plot(model.history.history['accuracy'],color='b',label='Training  Accuracy')\n",
        "ax[1].plot(model.history.history['val_accuracy'],color='r',label='Validation Accuracy')\n",
        "\n",
        "plt.legend()"
      ],
      "execution_count": null,
      "outputs": [
        {
          "output_type": "execute_result",
          "data": {
            "text/plain": [
              "<matplotlib.legend.Legend at 0x7f6a409452b0>"
            ]
          },
          "metadata": {
            "tags": []
          },
          "execution_count": 230
        },
        {
          "output_type": "display_data",
          "data": {
            "image/png": "[encoded data removed]",
            "text/plain": [
              "<Figure size 432x288 with 2 Axes>"
            ]
          },
          "metadata": {
            "tags": [],
            "needs_background": "light"
          }
        }
      ]
    },
    {
      "cell_type": "markdown",
      "metadata": {
        "id": "W976iGSLxRix"
      },
      "source": [
        "The classification performance will be seen using a non-normalized and a normalized confusion matrices. At this point, we will define a function below, through which the confusion matrices will be plotted.                                "
      ]
    },
    {
      "cell_type": "code",
      "metadata": {
        "id": "dE_DmDqGmDgj"
      },
      "source": [
        "#Defining function for confusion matrix plot\n",
        "def plot_confusion_matrix(y_true, y_pred, classes,\n",
        "                          normalize=False,\n",
        "                          title=None,\n",
        "                          cmap=plt.cm.Blues):\n",
        "    if not title:\n",
        "        if normalize:\n",
        "            title = 'Normalized confusion matrix'\n",
        "        else:\n",
        "            title = 'Confusion matrix, without normalization'\n",
        "\n",
        "    # Compute confusion matrix\n",
        "    cm = confusion_matrix(y_true, y_pred)\n",
        "    if normalize:\n",
        "        cm = cm.astype('float') / cm.sum(axis=1)[:, np.newaxis]\n",
        "        print(\"Normalized confusion matrix\")\n",
        "    else:\n",
        "        print('Confusion matrix, without normalization')\n",
        "\n",
        "#Print Confusion matrix\n",
        "    fig, ax = plt.subplots(figsize=(7,7))\n",
        "    im = ax.imshow(cm, interpolation='nearest', cmap=cmap)\n",
        "    ax.figure.colorbar(im, ax=ax)\n",
        "    # We want to show all ticks...\n",
        "    ax.set(xticks=np.arange(cm.shape[1]),\n",
        "           yticks=np.arange(cm.shape[0]),\n",
        "           xticklabels=classes, yticklabels=classes,\n",
        "           title=title,\n",
        "           ylabel='True label',\n",
        "           xlabel='Predicted label')\n",
        "\n",
        "    # Rotate the tick labels and set their alignment.\n",
        "    plt.setp(ax.get_xticklabels(), rotation=45, ha=\"right\",\n",
        "             rotation_mode=\"anchor\")\n",
        "    # Loop over data dimensions and create text annotations.\n",
        "    fmt = '.2f' if normalize else 'd'\n",
        "    thresh = cm.max() / 2.\n",
        "    for i in range(cm.shape[0]):\n",
        "        for j in range(cm.shape[1]):\n",
        "            ax.text(j, i, format(cm[i, j], fmt),\n",
        "                    ha=\"center\", va=\"center\",\n",
        "                    color=\"white\" if cm[i, j] > thresh else \"black\")\n",
        "    fig.tight_layout()\n",
        "    return ax\n",
        "\n",
        "np.set_printoptions(precision=2)"
      ],
      "execution_count": null,
      "outputs": []
    },
    {
      "cell_type": "markdown",
      "metadata": {
        "id": "mWEy9c45xfeh"
      },
      "source": [
        "At this point, we would be doing some Model Predictions in the following steps below.                                                            \n",
        "We would predict the class labels for the test images on the trained AlexNet model."
      ]
    },
    {
      "cell_type": "code",
      "metadata": {
        "colab": {
          "base_uri": "https://localhost:8080/",
          "height": 1000
        },
        "id": "lcu-LL9ZmLEq",
        "outputId": "14ca118a-ca54-4fd6-de0e-cdc17b77a462"
      },
      "source": [
        "#Making prediction\n",
        "y_pred=model.predict_classes(X_test)\n",
        "y_true=np.argmax(y_test,axis=1)\n",
        "\n",
        "#Plotting the confusion matrix\n",
        "from sklearn.metrics import confusion_matrix\n",
        "confusion_mtx=confusion_matrix(y_true,y_pred)\n",
        "\n",
        "class_names=['0', '1', '2', '3', '4', '5', '6', '7', '8', '9']\n",
        "\n",
        "# Plotting non-normalized confusion matrix\n",
        "plot_confusion_matrix(y_true, y_pred, classes = class_names,title = 'Confusion matrix, without normalization')\n",
        "\n",
        "\n",
        "# Plotting normalized confusion matrix\n",
        "plot_confusion_matrix(y_true, y_pred, classes=class_names, normalize=True, title='Normalized confusion matrix')"
      ],
      "execution_count": null,
      "outputs": [
        {
          "output_type": "stream",
          "text": [
            "/usr/local/lib/python3.6/dist-packages/tensorflow/python/keras/engine/sequential.py:450: UserWarning: `model.predict_classes()` is deprecated and will be removed after 2021-01-01. Please use instead:* `np.argmax(model.predict(x), axis=-1)`,   if your model does multi-class classification   (e.g. if it uses a `softmax` last-layer activation).* `(model.predict(x) > 0.5).astype(\"int32\")`,   if your model does binary classification   (e.g. if it uses a `sigmoid` last-layer activation).\n",
            "  warnings.warn('`model.predict_classes()` is deprecated and '\n"
          ],
          "name": "stderr"
        },
        {
          "output_type": "stream",
          "text": [
            "Confusion matrix, without normalization\n",
            "Normalized confusion matrix\n"
          ],
          "name": "stdout"
        },
        {
          "output_type": "execute_result",
          "data": {
            "text/plain": [
              "<matplotlib.axes._subplots.AxesSubplot at 0x7f6a3d406160>"
            ]
          },
          "metadata": {
            "tags": []
          },
          "execution_count": 232
        },
        {
          "output_type": "display_data",
          "data": {
            "image/png": "[encoded data removed]",
            "text/plain": [
              "<Figure size 504x504 with 2 Axes>"
            ]
          },
          "metadata": {
            "tags": [],
            "needs_background": "light"
          }
        },
        {
          "output_type": "display_data",
          "data": {
            "image/png": "[encoded data removed]",
            "text/plain": [
              "<Figure size 504x504 with 2 Axes>"
            ]
          },
          "metadata": {
            "tags": [],
            "needs_background": "light"
          }
        }
      ]
    },
    {
      "cell_type": "markdown",
      "metadata": {
        "id": "xnJhvhtoUOOC"
      },
      "source": [
        "**Let's Test Our Model**"
      ]
    },
    {
      "cell_type": "code",
      "metadata": {
        "colab": {
          "base_uri": "https://localhost:8080/"
        },
        "id": "PoBZM5JtEa94",
        "outputId": "49c26ad2-1424-45d6-cd23-2ea6603ea2e8"
      },
      "source": [
        "#Classification accuracy\n",
        "from sklearn.metrics import accuracy_score\n",
        "acc_score = accuracy_score(y_true, y_pred)\n",
        "print('Accuracy Score = ', acc_score)"
      ],
      "execution_count": null,
      "outputs": [
        {
          "output_type": "stream",
          "text": [
            "Accuracy Score =  0.9892\n"
          ],
          "name": "stdout"
        }
      ]
    },
    {
      "cell_type": "code",
      "metadata": {
        "colab": {
          "base_uri": "https://localhost:8080/"
        },
        "id": "VEiVHEsBmWnd",
        "outputId": "dd0a18c6-5444-4b8a-f329-b266a7ed4e4c"
      },
      "source": [
        "from keras.models import load_model\n",
        "\n",
        "model.save('LeNet-AlexNet-MNIST')"
      ],
      "execution_count": null,
      "outputs": [
        {
          "output_type": "stream",
          "text": [
            "INFO:tensorflow:Assets written to: LeNet-AlexNet-MNIST/assets\n"
          ],
          "name": "stdout"
        }
      ]
    },
    {
      "cell_type": "markdown",
      "metadata": {
        "id": "QcLSBiLIWMSH"
      },
      "source": [
        "**• Conclusion**                                                      \n",
        "We have successfully done a Classification of our model, using the LeNet and AlexNet algorithm.\n",
        "Both algorithms uses different parameters, ranging from their seperate required libraries to number of layers and activations.\n",
        "Their accuracies were quite good and high, also had good predictions. LeNet had a test accuracy of 98.91% and train accuracy of 99.58%.       \n",
        "\n",
        "AlexNet also had train accuracy of 98.05% and a test accuracy of 98.92%.\n",
        "Both Algorithms performed almost similar in-terms of their accuracies and predictions.                                                                                                            \n",
        "I Could observer that the LeNet architecture trained much faster than the AlexNet architecture.                                        \n",
        "\n",
        "A RAM Size of 2.20GB Was used in the execution process on a GPU machine.                                          \n",
        "\n",
        "**Recommendations.**                                               \n",
        "For further comparisons, i will suggest the following parameters stated below are put in place for better performance.\n",
        "\n",
        "1. We can tune certain parameters like epochs, learning rate etc. The number of epochs definitely affect the performance of the models. For large number of epochs , there is improvement in performance.         \n",
        "\n",
        "2. Also we can apply dropout layer in the CNN model.                 \n",
        "\n",
        "3. There is need to tune your model with various optimizers such as rmsprop, SGD etc.                                         \n",
        "\n",
        "4. It is very important to have large training data, because using large data prevents over fitting, and doing this will enable better performance for the model.                                         \n",
        "\n",
        "At the end of the whole process, both Architectures were saved using the Keras library with a name as \" LeNet-AlexNet-MNIST\".\n"
      ]
    }
  ]
}